{
 "cells": [
  {
   "cell_type": "markdown",
   "id": "65b06ffd",
   "metadata": {},
   "source": [
    "# Data Preparation"
   ]
  },
  {
   "cell_type": "markdown",
   "id": "0da14b79",
   "metadata": {},
   "source": [
    "### Read Data"
   ]
  },
  {
   "cell_type": "code",
   "execution_count": 1,
   "id": "d5a9b867",
   "metadata": {},
   "outputs": [
    {
     "data": {
      "text/html": [
       "<div>\n",
       "<style scoped>\n",
       "    .dataframe tbody tr th:only-of-type {\n",
       "        vertical-align: middle;\n",
       "    }\n",
       "\n",
       "    .dataframe tbody tr th {\n",
       "        vertical-align: top;\n",
       "    }\n",
       "\n",
       "    .dataframe thead th {\n",
       "        text-align: right;\n",
       "    }\n",
       "</style>\n",
       "<table border=\"1\" class=\"dataframe\">\n",
       "  <thead>\n",
       "    <tr style=\"text-align: right;\">\n",
       "      <th></th>\n",
       "      <th>longitude</th>\n",
       "      <th>latitude</th>\n",
       "      <th>housing_median_age</th>\n",
       "      <th>total_rooms</th>\n",
       "      <th>total_bedrooms</th>\n",
       "      <th>population</th>\n",
       "      <th>households</th>\n",
       "      <th>median_income</th>\n",
       "      <th>median_house_value</th>\n",
       "      <th>ocean_proximity</th>\n",
       "    </tr>\n",
       "  </thead>\n",
       "  <tbody>\n",
       "    <tr>\n",
       "      <th>0</th>\n",
       "      <td>-122.23</td>\n",
       "      <td>37.88</td>\n",
       "      <td>41.0</td>\n",
       "      <td>880.0</td>\n",
       "      <td>129.0</td>\n",
       "      <td>322.0</td>\n",
       "      <td>126.0</td>\n",
       "      <td>8.3252</td>\n",
       "      <td>452600.0</td>\n",
       "      <td>NEAR BAY</td>\n",
       "    </tr>\n",
       "    <tr>\n",
       "      <th>1</th>\n",
       "      <td>-122.22</td>\n",
       "      <td>37.86</td>\n",
       "      <td>21.0</td>\n",
       "      <td>7099.0</td>\n",
       "      <td>1106.0</td>\n",
       "      <td>2401.0</td>\n",
       "      <td>1138.0</td>\n",
       "      <td>8.3014</td>\n",
       "      <td>358500.0</td>\n",
       "      <td>NEAR BAY</td>\n",
       "    </tr>\n",
       "    <tr>\n",
       "      <th>2</th>\n",
       "      <td>-122.24</td>\n",
       "      <td>37.85</td>\n",
       "      <td>52.0</td>\n",
       "      <td>1467.0</td>\n",
       "      <td>190.0</td>\n",
       "      <td>496.0</td>\n",
       "      <td>177.0</td>\n",
       "      <td>7.2574</td>\n",
       "      <td>352100.0</td>\n",
       "      <td>NEAR BAY</td>\n",
       "    </tr>\n",
       "    <tr>\n",
       "      <th>3</th>\n",
       "      <td>-122.25</td>\n",
       "      <td>37.85</td>\n",
       "      <td>52.0</td>\n",
       "      <td>1274.0</td>\n",
       "      <td>235.0</td>\n",
       "      <td>558.0</td>\n",
       "      <td>219.0</td>\n",
       "      <td>5.6431</td>\n",
       "      <td>341300.0</td>\n",
       "      <td>NEAR BAY</td>\n",
       "    </tr>\n",
       "    <tr>\n",
       "      <th>4</th>\n",
       "      <td>-122.25</td>\n",
       "      <td>37.85</td>\n",
       "      <td>52.0</td>\n",
       "      <td>1627.0</td>\n",
       "      <td>280.0</td>\n",
       "      <td>565.0</td>\n",
       "      <td>259.0</td>\n",
       "      <td>3.8462</td>\n",
       "      <td>342200.0</td>\n",
       "      <td>NEAR BAY</td>\n",
       "    </tr>\n",
       "  </tbody>\n",
       "</table>\n",
       "</div>"
      ],
      "text/plain": [
       "   longitude  latitude  housing_median_age  total_rooms  total_bedrooms  \\\n",
       "0    -122.23     37.88                41.0        880.0           129.0   \n",
       "1    -122.22     37.86                21.0       7099.0          1106.0   \n",
       "2    -122.24     37.85                52.0       1467.0           190.0   \n",
       "3    -122.25     37.85                52.0       1274.0           235.0   \n",
       "4    -122.25     37.85                52.0       1627.0           280.0   \n",
       "\n",
       "   population  households  median_income  median_house_value ocean_proximity  \n",
       "0       322.0       126.0         8.3252            452600.0        NEAR BAY  \n",
       "1      2401.0      1138.0         8.3014            358500.0        NEAR BAY  \n",
       "2       496.0       177.0         7.2574            352100.0        NEAR BAY  \n",
       "3       558.0       219.0         5.6431            341300.0        NEAR BAY  \n",
       "4       565.0       259.0         3.8462            342200.0        NEAR BAY  "
      ]
     },
     "execution_count": 1,
     "metadata": {},
     "output_type": "execute_result"
    }
   ],
   "source": [
    "# importing libraries and reading the housing data\n",
    "\n",
    "import pandas as pd\n",
    "\n",
    "import numpy as np\n",
    "\n",
    "housing_data=pd.read_csv('housing.csv')\n",
    "\n",
    "housing_data.head()"
   ]
  },
  {
   "cell_type": "markdown",
   "id": "6071de55",
   "metadata": {},
   "source": [
    "### Spliting the data"
   ]
  },
  {
   "cell_type": "code",
   "execution_count": 2,
   "id": "9c817cbd",
   "metadata": {},
   "outputs": [
    {
     "data": {
      "text/plain": [
       "((16512, 10), (4128, 10))"
      ]
     },
     "execution_count": 2,
     "metadata": {},
     "output_type": "execute_result"
    }
   ],
   "source": [
    "#spliting the dataset into train and test sets\n",
    "#import the train_test_split() method from sklearn.model_selection\n",
    "from sklearn.model_selection import train_test_split\n",
    "train,test=train_test_split(housing_data,test_size=0.2,random_state=42)\n",
    "train.shape,test.shape"
   ]
  },
  {
   "cell_type": "markdown",
   "id": "9cc0161f",
   "metadata": {},
   "source": [
    "# Cleaning the data"
   ]
  },
  {
   "cell_type": "code",
   "execution_count": 3,
   "id": "72d60205",
   "metadata": {},
   "outputs": [
    {
     "data": {
      "text/plain": [
       "longitude             0\n",
       "latitude              0\n",
       "housing_median_age    0\n",
       "total_rooms           0\n",
       "total_bedrooms        0\n",
       "population            0\n",
       "households            0\n",
       "median_income         0\n",
       "median_house_value    0\n",
       "ocean_proximity       0\n",
       "dtype: int64"
      ]
     },
     "execution_count": 3,
     "metadata": {},
     "output_type": "execute_result"
    }
   ],
   "source": [
    "# cleaning the training set by handling missing values\n",
    "\n",
    "train.isnull().sum()"
   ]
  },
  {
   "cell_type": "code",
   "execution_count": 4,
   "id": "56494ea4",
   "metadata": {},
   "outputs": [
    {
     "data": {
      "text/plain": [
       "SimpleImputer(strategy='median')"
      ]
     },
     "execution_count": 4,
     "metadata": {},
     "output_type": "execute_result"
    }
   ],
   "source": [
    "#using imputer method to replace missing numerical values with median\n",
    "from sklearn.impute import SimpleImputer\n",
    "imputer=SimpleImputer(strategy='median')\n",
    "\n",
    "#dropping the categorical value column\n",
    "train_num=train.drop('ocean_proximity',axis=1)\n",
    "\n",
    "#fitting the imputer to the numerical training dataset\n",
    "imputer.fit(train_num)"
   ]
  },
  {
   "cell_type": "code",
   "execution_count": 5,
   "id": "dc337f85",
   "metadata": {},
   "outputs": [],
   "source": [
    "#applying the strategy to our numerical training data using the transform()\n",
    "x=imputer.transform(train_num)"
   ]
  },
  {
   "cell_type": "code",
   "execution_count": 6,
   "id": "2a9dbde4",
   "metadata": {},
   "outputs": [
    {
     "data": {
      "text/html": [
       "<div>\n",
       "<style scoped>\n",
       "    .dataframe tbody tr th:only-of-type {\n",
       "        vertical-align: middle;\n",
       "    }\n",
       "\n",
       "    .dataframe tbody tr th {\n",
       "        vertical-align: top;\n",
       "    }\n",
       "\n",
       "    .dataframe thead th {\n",
       "        text-align: right;\n",
       "    }\n",
       "</style>\n",
       "<table border=\"1\" class=\"dataframe\">\n",
       "  <thead>\n",
       "    <tr style=\"text-align: right;\">\n",
       "      <th></th>\n",
       "      <th>longitude</th>\n",
       "      <th>latitude</th>\n",
       "      <th>housing_median_age</th>\n",
       "      <th>total_rooms</th>\n",
       "      <th>total_bedrooms</th>\n",
       "      <th>population</th>\n",
       "      <th>households</th>\n",
       "      <th>median_income</th>\n",
       "      <th>median_house_value</th>\n",
       "    </tr>\n",
       "  </thead>\n",
       "  <tbody>\n",
       "    <tr>\n",
       "      <th>0</th>\n",
       "      <td>-117.03</td>\n",
       "      <td>32.71</td>\n",
       "      <td>33.0</td>\n",
       "      <td>3126.0</td>\n",
       "      <td>627.0</td>\n",
       "      <td>2300.0</td>\n",
       "      <td>623.0</td>\n",
       "      <td>3.2596</td>\n",
       "      <td>103000.0</td>\n",
       "    </tr>\n",
       "    <tr>\n",
       "      <th>1</th>\n",
       "      <td>-118.16</td>\n",
       "      <td>33.77</td>\n",
       "      <td>49.0</td>\n",
       "      <td>3382.0</td>\n",
       "      <td>787.0</td>\n",
       "      <td>1314.0</td>\n",
       "      <td>756.0</td>\n",
       "      <td>3.8125</td>\n",
       "      <td>382100.0</td>\n",
       "    </tr>\n",
       "    <tr>\n",
       "      <th>2</th>\n",
       "      <td>-120.48</td>\n",
       "      <td>34.66</td>\n",
       "      <td>4.0</td>\n",
       "      <td>1897.0</td>\n",
       "      <td>331.0</td>\n",
       "      <td>915.0</td>\n",
       "      <td>336.0</td>\n",
       "      <td>4.1563</td>\n",
       "      <td>172600.0</td>\n",
       "    </tr>\n",
       "    <tr>\n",
       "      <th>3</th>\n",
       "      <td>-117.11</td>\n",
       "      <td>32.69</td>\n",
       "      <td>36.0</td>\n",
       "      <td>1421.0</td>\n",
       "      <td>367.0</td>\n",
       "      <td>1418.0</td>\n",
       "      <td>355.0</td>\n",
       "      <td>1.9425</td>\n",
       "      <td>93400.0</td>\n",
       "    </tr>\n",
       "    <tr>\n",
       "      <th>4</th>\n",
       "      <td>-119.80</td>\n",
       "      <td>36.78</td>\n",
       "      <td>43.0</td>\n",
       "      <td>2382.0</td>\n",
       "      <td>431.0</td>\n",
       "      <td>874.0</td>\n",
       "      <td>380.0</td>\n",
       "      <td>3.5542</td>\n",
       "      <td>96500.0</td>\n",
       "    </tr>\n",
       "  </tbody>\n",
       "</table>\n",
       "</div>"
      ],
      "text/plain": [
       "   longitude  latitude  housing_median_age  total_rooms  total_bedrooms  \\\n",
       "0    -117.03     32.71                33.0       3126.0           627.0   \n",
       "1    -118.16     33.77                49.0       3382.0           787.0   \n",
       "2    -120.48     34.66                 4.0       1897.0           331.0   \n",
       "3    -117.11     32.69                36.0       1421.0           367.0   \n",
       "4    -119.80     36.78                43.0       2382.0           431.0   \n",
       "\n",
       "   population  households  median_income  median_house_value  \n",
       "0      2300.0       623.0         3.2596            103000.0  \n",
       "1      1314.0       756.0         3.8125            382100.0  \n",
       "2       915.0       336.0         4.1563            172600.0  \n",
       "3      1418.0       355.0         1.9425             93400.0  \n",
       "4       874.0       380.0         3.5542             96500.0  "
      ]
     },
     "execution_count": 6,
     "metadata": {},
     "output_type": "execute_result"
    }
   ],
   "source": [
    "#the results is an array to convert it to a dataframe apply pd\n",
    "train_prepared=pd.DataFrame(x,columns=train_num.columns)\n",
    "train_prepared.head()"
   ]
  },
  {
   "cell_type": "code",
   "execution_count": 7,
   "id": "4ccb90d5",
   "metadata": {},
   "outputs": [
    {
     "data": {
      "text/html": [
       "<div>\n",
       "<style scoped>\n",
       "    .dataframe tbody tr th:only-of-type {\n",
       "        vertical-align: middle;\n",
       "    }\n",
       "\n",
       "    .dataframe tbody tr th {\n",
       "        vertical-align: top;\n",
       "    }\n",
       "\n",
       "    .dataframe thead th {\n",
       "        text-align: right;\n",
       "    }\n",
       "</style>\n",
       "<table border=\"1\" class=\"dataframe\">\n",
       "  <thead>\n",
       "    <tr style=\"text-align: right;\">\n",
       "      <th></th>\n",
       "      <th>ocean_proximity</th>\n",
       "    </tr>\n",
       "  </thead>\n",
       "  <tbody>\n",
       "    <tr>\n",
       "      <th>14196</th>\n",
       "      <td>NEAR OCEAN</td>\n",
       "    </tr>\n",
       "    <tr>\n",
       "      <th>8267</th>\n",
       "      <td>NEAR OCEAN</td>\n",
       "    </tr>\n",
       "    <tr>\n",
       "      <th>17445</th>\n",
       "      <td>NEAR OCEAN</td>\n",
       "    </tr>\n",
       "    <tr>\n",
       "      <th>14265</th>\n",
       "      <td>NEAR OCEAN</td>\n",
       "    </tr>\n",
       "    <tr>\n",
       "      <th>2271</th>\n",
       "      <td>INLAND</td>\n",
       "    </tr>\n",
       "  </tbody>\n",
       "</table>\n",
       "</div>"
      ],
      "text/plain": [
       "      ocean_proximity\n",
       "14196      NEAR OCEAN\n",
       "8267       NEAR OCEAN\n",
       "17445      NEAR OCEAN\n",
       "14265      NEAR OCEAN\n",
       "2271           INLAND"
      ]
     },
     "execution_count": 7,
     "metadata": {},
     "output_type": "execute_result"
    }
   ],
   "source": [
    "#handling categorical data\n",
    "\n",
    "train_ctg=train[['ocean_proximity']]\n",
    "train_ctg.head()"
   ]
  },
  {
   "cell_type": "code",
   "execution_count": 8,
   "id": "0ddd4a59",
   "metadata": {},
   "outputs": [
    {
     "data": {
      "text/plain": [
       "<16512x5 sparse matrix of type '<class 'numpy.float64'>'\n",
       "\twith 16512 stored elements in Compressed Sparse Row format>"
      ]
     },
     "execution_count": 8,
     "metadata": {},
     "output_type": "execute_result"
    }
   ],
   "source": [
    "# import onehotencoder from sklearn.preprocessing,to convert the categoriccal data to one hot vector\n",
    "from sklearn.preprocessing import OneHotEncoder\n",
    "ctg_encoder=OneHotEncoder()\n",
    "train_ctg_1hot=ctg_encoder.fit_transform(train_ctg)\n",
    "train_ctg_1hot"
   ]
  },
  {
   "cell_type": "code",
   "execution_count": 9,
   "id": "f4842ffa",
   "metadata": {},
   "outputs": [
    {
     "data": {
      "text/plain": [
       "array([[0., 0., 0., 0., 1.],\n",
       "       [0., 0., 0., 0., 1.],\n",
       "       [0., 0., 0., 0., 1.],\n",
       "       ...,\n",
       "       [1., 0., 0., 0., 0.],\n",
       "       [1., 0., 0., 0., 0.],\n",
       "       [0., 0., 0., 1., 0.]])"
      ]
     },
     "execution_count": 9,
     "metadata": {},
     "output_type": "execute_result"
    }
   ],
   "source": [
    "#convert the resulting sparse matrix to a numpy array\n",
    "train_ctg_1hot.toarray()"
   ]
  },
  {
   "cell_type": "markdown",
   "id": "b4c00202",
   "metadata": {},
   "source": [
    "### Feature Engineering"
   ]
  },
  {
   "cell_type": "code",
   "execution_count": 10,
   "id": "cda39537",
   "metadata": {},
   "outputs": [],
   "source": [
    "train['rooms_per_household'] =train['total_rooms']/train['households']\n",
    "train['bedrooms_per_rooms']=train['total_bedrooms']/train['total_rooms']\n",
    "train['population_per_household']=train['population']/train['households']"
   ]
  },
  {
   "cell_type": "code",
   "execution_count": 11,
   "id": "32a370d7",
   "metadata": {},
   "outputs": [
    {
     "data": {
      "text/plain": [
       "median_house_value          1.000000\n",
       "median_income               0.690647\n",
       "rooms_per_household         0.158485\n",
       "total_rooms                 0.133989\n",
       "housing_median_age          0.103706\n",
       "households                  0.063714\n",
       "total_bedrooms              0.047980\n",
       "population_per_household   -0.022030\n",
       "population                 -0.026032\n",
       "longitude                  -0.046349\n",
       "latitude                   -0.142983\n",
       "bedrooms_per_rooms         -0.257419\n",
       "Name: median_house_value, dtype: float64"
      ]
     },
     "execution_count": 11,
     "metadata": {},
     "output_type": "execute_result"
    }
   ],
   "source": [
    "#checking the correlation of the new created columns to the median house value\n",
    "corr_matrix= train.corr()\n",
    "corr_matrix['median_house_value'].sort_values(ascending=False)"
   ]
  },
  {
   "cell_type": "markdown",
   "id": "d09846f6",
   "metadata": {},
   "source": [
    "### Feature Scaling"
   ]
  },
  {
   "cell_type": "code",
   "execution_count": 12,
   "id": "8dce8795",
   "metadata": {},
   "outputs": [
    {
     "data": {
      "text/plain": [
       "14196    103000.0\n",
       "8267     382100.0\n",
       "17445    172600.0\n",
       "14265     93400.0\n",
       "2271      96500.0\n",
       "Name: median_house_value, dtype: float64"
      ]
     },
     "execution_count": 12,
     "metadata": {},
     "output_type": "execute_result"
    }
   ],
   "source": [
    "#spliting data into input and output(i.e features and labels )\n",
    "#creating the output data.Making a copy so that any changes made in this o not affect the original dataset\n",
    "train_labels=train['median_house_value'].copy()\n",
    "\n",
    "#creating the input data\n",
    "train=train.drop('median_house_value',axis=1)\n",
    "\n",
    "#droping the categorical value column so as to work with the numerical values including the added columns\n",
    "train_num=train.drop('ocean_proximity',axis=1)\n",
    "train_labels.head()"
   ]
  },
  {
   "cell_type": "code",
   "execution_count": 13,
   "id": "bd9342c7",
   "metadata": {},
   "outputs": [],
   "source": [
    "# since there are many  data transformation steps that need to be executed \n",
    "# in the right order, the Pipeline class in sklearn will help with such sequence of transformation\n",
    "\n",
    "from sklearn.pipeline import Pipeline\n",
    "from sklearn.preprocessing import StandardScaler\n",
    "num_pipeline=Pipeline([('imputer',SimpleImputer(strategy='median')),('std_scaler',StandardScaler())])\n",
    "train_num_tr=num_pipeline.fit_transform(train_num)"
   ]
  },
  {
   "cell_type": "code",
   "execution_count": 14,
   "id": "4954d79c",
   "metadata": {},
   "outputs": [
    {
     "data": {
      "text/plain": [
       "array([[ 1.27258656, -1.3728112 ,  0.34849025, ...,  0.        ,\n",
       "         0.        ,  1.        ],\n",
       "       [ 0.70916212, -0.87669601,  1.61811813, ...,  0.        ,\n",
       "         0.        ,  1.        ],\n",
       "       [-0.44760309, -0.46014647, -1.95271028, ...,  0.        ,\n",
       "         0.        ,  1.        ],\n",
       "       ...,\n",
       "       [ 0.59946887, -0.75500738,  0.58654547, ...,  0.        ,\n",
       "         0.        ,  0.        ],\n",
       "       [-1.18553953,  0.90651045, -1.07984112, ...,  0.        ,\n",
       "         0.        ,  0.        ],\n",
       "       [-1.41489815,  0.99543676,  1.85617335, ...,  0.        ,\n",
       "         1.        ,  0.        ]])"
      ]
     },
     "execution_count": 14,
     "metadata": {},
     "output_type": "execute_result"
    }
   ],
   "source": [
    "'''scikit has introduced a new class called the ColumnTransfomer \n",
    "that transforms both the numerical and categorical values at the same time'''\n",
    "from sklearn.compose import ColumnTransformer\n",
    "num_attributes=list(train_num)\n",
    "ctg_attributes=['ocean_proximity']\n",
    "\n",
    "full_pipeline=ColumnTransformer([('num',num_pipeline,num_attributes),('ctg',OneHotEncoder(),ctg_attributes)])\n",
    "train_prepared=full_pipeline.fit_transform(train)\n",
    "train_prepared"
   ]
  },
  {
   "cell_type": "code",
   "execution_count": 15,
   "id": "bdcbc576",
   "metadata": {},
   "outputs": [
    {
     "data": {
      "text/plain": [
       "(16512, 16)"
      ]
     },
     "execution_count": 15,
     "metadata": {},
     "output_type": "execute_result"
    }
   ],
   "source": [
    "train_prepared.shape"
   ]
  },
  {
   "cell_type": "markdown",
   "id": "e0c99af0",
   "metadata": {},
   "source": [
    "# Model Training"
   ]
  },
  {
   "cell_type": "markdown",
   "id": "f7107c93",
   "metadata": {},
   "source": [
    "### Random Forest Model"
   ]
  },
  {
   "cell_type": "code",
   "execution_count": 16,
   "id": "e186a9d2",
   "metadata": {},
   "outputs": [
    {
     "data": {
      "text/plain": [
       "RandomForestRegressor()"
      ]
     },
     "execution_count": 16,
     "metadata": {},
     "output_type": "execute_result"
    }
   ],
   "source": [
    "#Random forest regression model\n",
    "\n",
    "from sklearn.ensemble import RandomForestRegressor\n",
    "forest_reg=RandomForestRegressor()\n",
    "forest_reg.fit(train_prepared, train_labels)"
   ]
  },
  {
   "cell_type": "code",
   "execution_count": 17,
   "id": "f674a4a0",
   "metadata": {},
   "outputs": [
    {
     "data": {
      "text/plain": [
       "18552.659159028022"
      ]
     },
     "execution_count": 17,
     "metadata": {},
     "output_type": "execute_result"
    }
   ],
   "source": [
    "#Measuring the Root Mean Squared Error of this model\n",
    "\n",
    "from sklearn.metrics import mean_squared_error\n",
    "train_predictions=forest_reg.predict(train_prepared)\n",
    "forest_mse=mean_squared_error(train_labels, train_predictions)\n",
    "forest_rmse=np.sqrt(forest_mse)\n",
    "forest_rmse"
   ]
  },
  {
   "cell_type": "markdown",
   "id": "1d7bccbe",
   "metadata": {},
   "source": [
    "### Stochastic Gradient Descent Model"
   ]
  },
  {
   "cell_type": "code",
   "execution_count": 18,
   "id": "d9a66705",
   "metadata": {},
   "outputs": [
    {
     "data": {
      "text/plain": [
       "SGDRegressor()"
      ]
     },
     "execution_count": 18,
     "metadata": {},
     "output_type": "execute_result"
    }
   ],
   "source": [
    "from sklearn.linear_model import SGDRegressor\n",
    "sgd_mdl=SGDRegressor()\n",
    "sgd_mdl.fit(train_prepared,train_labels)"
   ]
  },
  {
   "cell_type": "code",
   "execution_count": 19,
   "id": "6d9d01a8",
   "metadata": {},
   "outputs": [
    {
     "name": "stdout",
     "output_type": "stream",
     "text": [
      "predictions: [182125.81030629 289766.87462683 246787.55072702 146237.04496245\n",
      " 163585.58693537]\n"
     ]
    }
   ],
   "source": [
    "#use some of the trainig data to test our model\n",
    "some_data=train.iloc[:5]\n",
    "some_data_labels=train_labels[:5]\n",
    "\n",
    "#perform a full pipeline and transform some_data\n",
    "some_data_prepared=full_pipeline.transform(some_data)\n",
    "\n",
    "#print the predictions of our model\n",
    "print('predictions:',sgd_mdl.predict(some_data_prepared))"
   ]
  },
  {
   "cell_type": "code",
   "execution_count": 20,
   "id": "5179da68",
   "metadata": {},
   "outputs": [
    {
     "data": {
      "text/plain": [
       "67691.15556449741"
      ]
     },
     "execution_count": 20,
     "metadata": {},
     "output_type": "execute_result"
    }
   ],
   "source": [
    "#to measure rmse of this sgd model\n",
    "train_predictions=sgd_mdl.predict(train_prepared)\n",
    "sgd_mse=mean_squared_error(train_labels,train_predictions)\n",
    "sgd_rmse= np.sqrt(sgd_mse)\n",
    "sgd_rmse"
   ]
  },
  {
   "cell_type": "code",
   "execution_count": 21,
   "id": "d20e23f1",
   "metadata": {},
   "outputs": [
    {
     "name": "stdout",
     "output_type": "stream",
     "text": [
      "scores: [6.51587840e+04 2.03921328e+05 9.23222784e+04 6.62083207e+04\n",
      " 8.14803385e+04 6.78311271e+04 2.12782615e+05 8.61011142e+04\n",
      " 1.13027706e+08 7.23380829e+04]\n",
      "mean 11397585.039783126\n",
      "standard deviation 33876748.46845418\n"
     ]
    }
   ],
   "source": [
    "#performing cross validation on our SGD model\n",
    "\n",
    "from sklearn.model_selection import cross_val_score\n",
    "sgd_scores=cross_val_score(sgd_mdl, train_prepared,train_labels,scoring=\"neg_mean_squared_error\", cv=10)\n",
    "sgd_rmse_scores=np.sqrt(-sgd_scores)\n",
    "print('scores:',sgd_rmse_scores)\n",
    "print('mean',sgd_rmse_scores.mean())\n",
    "print('standard deviation',sgd_rmse_scores.std())"
   ]
  },
  {
   "cell_type": "code",
   "execution_count": 22,
   "id": "1b8d4a2a",
   "metadata": {},
   "outputs": [
    {
     "name": "stdout",
     "output_type": "stream",
     "text": [
      "scores: [47224.92182302 51681.36468686 49864.00113439 51799.27588945\n",
      " 52449.7032766  47024.82114377 47452.65120166 50222.29040321\n",
      " 49139.73669868 49997.55548551]\n",
      "mean 49685.63217431541\n",
      "standard deviation 1868.872853756544\n"
     ]
    }
   ],
   "source": [
    "#performing cross validation on our random forest regression model\n",
    "\n",
    "forest_scores=cross_val_score(forest_reg, train_prepared,train_labels,scoring=\"neg_mean_squared_error\", cv=10)\n",
    "forest_rmse_scores=np.sqrt(-forest_scores)\n",
    "print('scores:',forest_rmse_scores)\n",
    "print('mean',forest_rmse_scores.mean())\n",
    "print('standard deviation',forest_rmse_scores.std())"
   ]
  },
  {
   "cell_type": "markdown",
   "id": "39429567",
   "metadata": {},
   "source": [
    "# Model Tuning"
   ]
  },
  {
   "cell_type": "code",
   "execution_count": 23,
   "id": "430b551d",
   "metadata": {},
   "outputs": [
    {
     "data": {
      "text/plain": [
       "GridSearchCV(cv=5, estimator=SGDRegressor(),\n",
       "             param_grid=[{'alpha': [0.01, 0.04, 0.07, 0.1],\n",
       "                          'max_iter': [200, 400, 600, 800, 1000]}],\n",
       "             return_train_score=True, scoring='neg_mean_squared_error')"
      ]
     },
     "execution_count": 23,
     "metadata": {},
     "output_type": "execute_result"
    }
   ],
   "source": [
    "#fine tuning a model\n",
    "#using the grid search\n",
    "from sklearn.model_selection import GridSearchCV\n",
    "\n",
    "param_grid=[ {'alpha': [0.01,0.04,0.07,0.1],'max_iter':[200,400,600,800,1000]}]\n",
    "\n",
    "forest_reg=SGDRegressor()\n",
    "\n",
    "grid_search=GridSearchCV(sgd_mdl, param_grid,cv=5,scoring='neg_mean_squared_error',return_train_score=True)\n",
    "\n",
    "grid_search.fit(train_prepared, train_labels)"
   ]
  },
  {
   "cell_type": "code",
   "execution_count": 24,
   "id": "c296a7eb",
   "metadata": {},
   "outputs": [
    {
     "data": {
      "text/plain": [
       "dict_keys(['alpha', 'average', 'early_stopping', 'epsilon', 'eta0', 'fit_intercept', 'l1_ratio', 'learning_rate', 'loss', 'max_iter', 'n_iter_no_change', 'penalty', 'power_t', 'random_state', 'shuffle', 'tol', 'validation_fraction', 'verbose', 'warm_start'])"
      ]
     },
     "execution_count": 24,
     "metadata": {},
     "output_type": "execute_result"
    }
   ],
   "source": [
    "estimator=SGDRegressor()\n",
    "estimator.get_params().keys()\n"
   ]
  },
  {
   "cell_type": "code",
   "execution_count": 25,
   "id": "047859e2",
   "metadata": {},
   "outputs": [
    {
     "data": {
      "text/plain": [
       "{'alpha': 0.1, 'max_iter': 1000}"
      ]
     },
     "execution_count": 25,
     "metadata": {},
     "output_type": "execute_result"
    }
   ],
   "source": [
    "grid_search.best_params_"
   ]
  },
  {
   "cell_type": "code",
   "execution_count": 26,
   "id": "75a16a0b",
   "metadata": {},
   "outputs": [
    {
     "data": {
      "text/plain": [
       "SGDRegressor(alpha=0.1)"
      ]
     },
     "execution_count": 26,
     "metadata": {},
     "output_type": "execute_result"
    }
   ],
   "source": [
    "grid_search.best_estimator_"
   ]
  },
  {
   "cell_type": "code",
   "execution_count": 27,
   "id": "0e95e49b",
   "metadata": {},
   "outputs": [
    {
     "name": "stdout",
     "output_type": "stream",
     "text": [
      "12087620.272264155 {'alpha': 0.01, 'max_iter': 200}\n",
      "27717875.018455766 {'alpha': 0.01, 'max_iter': 400}\n",
      "16815044.839521367 {'alpha': 0.01, 'max_iter': 600}\n",
      "27863584.290531427 {'alpha': 0.01, 'max_iter': 800}\n",
      "15846740.401995681 {'alpha': 0.01, 'max_iter': 1000}\n",
      "6780231.98355839 {'alpha': 0.04, 'max_iter': 200}\n",
      "3443247.2923271577 {'alpha': 0.04, 'max_iter': 400}\n",
      "4080711.9834982534 {'alpha': 0.04, 'max_iter': 600}\n",
      "3666168.99341223 {'alpha': 0.04, 'max_iter': 800}\n",
      "4499915.191164249 {'alpha': 0.04, 'max_iter': 1000}\n",
      "694984.6728840792 {'alpha': 0.07, 'max_iter': 200}\n",
      "329409.67288712336 {'alpha': 0.07, 'max_iter': 400}\n",
      "100292.00258391847 {'alpha': 0.07, 'max_iter': 600}\n",
      "523322.0367335065 {'alpha': 0.07, 'max_iter': 800}\n",
      "1165871.4404877583 {'alpha': 0.07, 'max_iter': 1000}\n",
      "271226.18737003475 {'alpha': 0.1, 'max_iter': 200}\n",
      "74834.36132849634 {'alpha': 0.1, 'max_iter': 400}\n",
      "128454.19206022762 {'alpha': 0.1, 'max_iter': 600}\n",
      "121169.50014579562 {'alpha': 0.1, 'max_iter': 800}\n",
      "71469.48608381976 {'alpha': 0.1, 'max_iter': 1000}\n"
     ]
    }
   ],
   "source": [
    "cvres=grid_search.cv_results_\n",
    "for mean_score, params in zip(cvres[\"mean_test_score\"], cvres[\"params\"]):\n",
    "    print(np.sqrt(-mean_score), params)"
   ]
  },
  {
   "cell_type": "code",
   "execution_count": 28,
   "id": "8142befa",
   "metadata": {},
   "outputs": [],
   "source": [
    "#saving our model in a file\n",
    "import pickle\n",
    "filename='sgd_housing_model.pkl'\n",
    "pickle.dump(grid_search.best_estimator_,open(filename,'wb'))\n"
   ]
  },
  {
   "cell_type": "markdown",
   "id": "b7057434",
   "metadata": {},
   "source": [
    "# Model Testing"
   ]
  },
  {
   "cell_type": "markdown",
   "id": "4b87e8af",
   "metadata": {},
   "source": [
    "### We will first clean our test dataset before we do the testing"
   ]
  },
  {
   "cell_type": "markdown",
   "id": "ecc6ebde",
   "metadata": {},
   "source": [
    "## Cleaning Test dataset"
   ]
  },
  {
   "cell_type": "code",
   "execution_count": 29,
   "id": "95f6e6f7",
   "metadata": {},
   "outputs": [
    {
     "data": {
      "text/plain": [
       "longitude               0\n",
       "latitude                0\n",
       "housing_median_age      0\n",
       "total_rooms             0\n",
       "total_bedrooms        207\n",
       "population              0\n",
       "households              0\n",
       "median_income           0\n",
       "median_house_value      0\n",
       "ocean_proximity         0\n",
       "dtype: int64"
      ]
     },
     "execution_count": 29,
     "metadata": {},
     "output_type": "execute_result"
    }
   ],
   "source": [
    "#checking for null values in the test dataset\n",
    "test.isnull().sum()"
   ]
  },
  {
   "cell_type": "code",
   "execution_count": 30,
   "id": "8b95d346",
   "metadata": {},
   "outputs": [
    {
     "data": {
      "text/plain": [
       "SimpleImputer(strategy='median')"
      ]
     },
     "execution_count": 30,
     "metadata": {},
     "output_type": "execute_result"
    }
   ],
   "source": [
    "#handling numerical data\n",
    "'''replacing the attributes missing value with the median,\n",
    "we use median instead of mean because some of our data has outliers'''\n",
    "#importing a SimpleImputer class to replace missing values using impute method\n",
    "from sklearn.impute import SimpleImputer\n",
    "imputer=SimpleImputer(strategy='median')\n",
    "#remove the ocean proximity column since the imputer method works with numerical data\n",
    "test_df=test.drop('ocean_proximity',axis=1)\n",
    "#fitting the imputer instance in the test data using fit() method\n",
    "imputer.fit(test_df)"
   ]
  },
  {
   "cell_type": "code",
   "execution_count": 31,
   "id": "73a363c5",
   "metadata": {},
   "outputs": [
    {
     "data": {
      "text/plain": [
       "array([-1.1847e+02,  3.4230e+01,  2.9000e+01,  2.1100e+03,  4.2800e+02,\n",
       "        1.1600e+03,  4.0600e+02,  3.5000e+00,  1.7865e+05])"
      ]
     },
     "execution_count": 31,
     "metadata": {},
     "output_type": "execute_result"
    }
   ],
   "source": [
    "#checking all the median values of our dataset\n",
    "test_df.median().values"
   ]
  },
  {
   "cell_type": "code",
   "execution_count": 32,
   "id": "f49084d0",
   "metadata": {},
   "outputs": [
    {
     "data": {
      "text/html": [
       "<div>\n",
       "<style scoped>\n",
       "    .dataframe tbody tr th:only-of-type {\n",
       "        vertical-align: middle;\n",
       "    }\n",
       "\n",
       "    .dataframe tbody tr th {\n",
       "        vertical-align: top;\n",
       "    }\n",
       "\n",
       "    .dataframe thead th {\n",
       "        text-align: right;\n",
       "    }\n",
       "</style>\n",
       "<table border=\"1\" class=\"dataframe\">\n",
       "  <thead>\n",
       "    <tr style=\"text-align: right;\">\n",
       "      <th></th>\n",
       "      <th>longitude</th>\n",
       "      <th>latitude</th>\n",
       "      <th>housing_median_age</th>\n",
       "      <th>total_rooms</th>\n",
       "      <th>total_bedrooms</th>\n",
       "      <th>population</th>\n",
       "      <th>households</th>\n",
       "      <th>median_income</th>\n",
       "      <th>median_house_value</th>\n",
       "    </tr>\n",
       "  </thead>\n",
       "  <tbody>\n",
       "    <tr>\n",
       "      <th>0</th>\n",
       "      <td>-119.01</td>\n",
       "      <td>36.06</td>\n",
       "      <td>25.0</td>\n",
       "      <td>1505.0</td>\n",
       "      <td>428.0</td>\n",
       "      <td>1392.0</td>\n",
       "      <td>359.0</td>\n",
       "      <td>1.6812</td>\n",
       "      <td>47700.0</td>\n",
       "    </tr>\n",
       "    <tr>\n",
       "      <th>1</th>\n",
       "      <td>-119.46</td>\n",
       "      <td>35.14</td>\n",
       "      <td>30.0</td>\n",
       "      <td>2943.0</td>\n",
       "      <td>428.0</td>\n",
       "      <td>1565.0</td>\n",
       "      <td>584.0</td>\n",
       "      <td>2.5313</td>\n",
       "      <td>45800.0</td>\n",
       "    </tr>\n",
       "    <tr>\n",
       "      <th>2</th>\n",
       "      <td>-122.44</td>\n",
       "      <td>37.80</td>\n",
       "      <td>52.0</td>\n",
       "      <td>3830.0</td>\n",
       "      <td>428.0</td>\n",
       "      <td>1310.0</td>\n",
       "      <td>963.0</td>\n",
       "      <td>3.4801</td>\n",
       "      <td>500001.0</td>\n",
       "    </tr>\n",
       "    <tr>\n",
       "      <th>3</th>\n",
       "      <td>-118.72</td>\n",
       "      <td>34.28</td>\n",
       "      <td>17.0</td>\n",
       "      <td>3051.0</td>\n",
       "      <td>428.0</td>\n",
       "      <td>1705.0</td>\n",
       "      <td>495.0</td>\n",
       "      <td>5.7376</td>\n",
       "      <td>218600.0</td>\n",
       "    </tr>\n",
       "    <tr>\n",
       "      <th>4</th>\n",
       "      <td>-121.93</td>\n",
       "      <td>36.62</td>\n",
       "      <td>34.0</td>\n",
       "      <td>2351.0</td>\n",
       "      <td>428.0</td>\n",
       "      <td>1063.0</td>\n",
       "      <td>428.0</td>\n",
       "      <td>3.7250</td>\n",
       "      <td>278000.0</td>\n",
       "    </tr>\n",
       "  </tbody>\n",
       "</table>\n",
       "</div>"
      ],
      "text/plain": [
       "   longitude  latitude  housing_median_age  total_rooms  total_bedrooms  \\\n",
       "0    -119.01     36.06                25.0       1505.0           428.0   \n",
       "1    -119.46     35.14                30.0       2943.0           428.0   \n",
       "2    -122.44     37.80                52.0       3830.0           428.0   \n",
       "3    -118.72     34.28                17.0       3051.0           428.0   \n",
       "4    -121.93     36.62                34.0       2351.0           428.0   \n",
       "\n",
       "   population  households  median_income  median_house_value  \n",
       "0      1392.0       359.0         1.6812             47700.0  \n",
       "1      1565.0       584.0         2.5313             45800.0  \n",
       "2      1310.0       963.0         3.4801            500001.0  \n",
       "3      1705.0       495.0         5.7376            218600.0  \n",
       "4      1063.0       428.0         3.7250            278000.0  "
      ]
     },
     "execution_count": 32,
     "metadata": {},
     "output_type": "execute_result"
    }
   ],
   "source": [
    "#using the imputer to transform the test data with the learnt median\n",
    "x=imputer.transform(test_df)\n",
    "#to convert the array result to a dataframe\n",
    "test_trained=pd.DataFrame(x,columns=test_df.columns)\n",
    "test_trained.head()"
   ]
  },
  {
   "cell_type": "code",
   "execution_count": 33,
   "id": "0ab92c3f",
   "metadata": {},
   "outputs": [
    {
     "data": {
      "text/html": [
       "<div>\n",
       "<style scoped>\n",
       "    .dataframe tbody tr th:only-of-type {\n",
       "        vertical-align: middle;\n",
       "    }\n",
       "\n",
       "    .dataframe tbody tr th {\n",
       "        vertical-align: top;\n",
       "    }\n",
       "\n",
       "    .dataframe thead th {\n",
       "        text-align: right;\n",
       "    }\n",
       "</style>\n",
       "<table border=\"1\" class=\"dataframe\">\n",
       "  <thead>\n",
       "    <tr style=\"text-align: right;\">\n",
       "      <th></th>\n",
       "      <th>ocean_proximity</th>\n",
       "    </tr>\n",
       "  </thead>\n",
       "  <tbody>\n",
       "    <tr>\n",
       "      <th>20046</th>\n",
       "      <td>INLAND</td>\n",
       "    </tr>\n",
       "    <tr>\n",
       "      <th>3024</th>\n",
       "      <td>INLAND</td>\n",
       "    </tr>\n",
       "    <tr>\n",
       "      <th>15663</th>\n",
       "      <td>NEAR BAY</td>\n",
       "    </tr>\n",
       "    <tr>\n",
       "      <th>20484</th>\n",
       "      <td>&lt;1H OCEAN</td>\n",
       "    </tr>\n",
       "    <tr>\n",
       "      <th>9814</th>\n",
       "      <td>NEAR OCEAN</td>\n",
       "    </tr>\n",
       "  </tbody>\n",
       "</table>\n",
       "</div>"
      ],
      "text/plain": [
       "      ocean_proximity\n",
       "20046          INLAND\n",
       "3024           INLAND\n",
       "15663        NEAR BAY\n",
       "20484       <1H OCEAN\n",
       "9814       NEAR OCEAN"
      ]
     },
     "execution_count": 33,
     "metadata": {},
     "output_type": "execute_result"
    }
   ],
   "source": [
    "#handling categorical data\n",
    "test_ctg=test[['ocean_proximity']]\n",
    "test_ctg.head()"
   ]
  },
  {
   "cell_type": "code",
   "execution_count": 34,
   "id": "955faaf5",
   "metadata": {},
   "outputs": [
    {
     "data": {
      "text/plain": [
       "<4128x5 sparse matrix of type '<class 'numpy.float64'>'\n",
       "\twith 4128 stored elements in Compressed Sparse Row format>"
      ]
     },
     "execution_count": 34,
     "metadata": {},
     "output_type": "execute_result"
    }
   ],
   "source": [
    "#use OneHotEncoder to convert the categorical data to one_hot vector\n",
    "from sklearn.preprocessing import OneHotEncoder\n",
    "ctg_encoder=OneHotEncoder()\n",
    "#fitting and transforming the ctg_encoder instance to the test categorical data\n",
    "test_ctg_1hot=ctg_encoder.fit_transform(test_ctg)\n",
    "test_ctg_1hot"
   ]
  },
  {
   "cell_type": "code",
   "execution_count": 35,
   "id": "8e53639a",
   "metadata": {},
   "outputs": [
    {
     "data": {
      "text/plain": [
       "array([[0., 1., 0., 0., 0.],\n",
       "       [0., 1., 0., 0., 0.],\n",
       "       [0., 0., 0., 1., 0.],\n",
       "       ...,\n",
       "       [1., 0., 0., 0., 0.],\n",
       "       [0., 1., 0., 0., 0.],\n",
       "       [1., 0., 0., 0., 0.]])"
      ]
     },
     "execution_count": 35,
     "metadata": {},
     "output_type": "execute_result"
    }
   ],
   "source": [
    "#converting the spicy sparse matrix into a numpy array using toarray() method\n",
    "test_ctg_1hot.toarray()"
   ]
  },
  {
   "cell_type": "code",
   "execution_count": 36,
   "id": "022c56bc",
   "metadata": {},
   "outputs": [
    {
     "data": {
      "text/plain": [
       "[array(['<1H OCEAN', 'INLAND', 'ISLAND', 'NEAR BAY', 'NEAR OCEAN'],\n",
       "       dtype=object)]"
      ]
     },
     "execution_count": 36,
     "metadata": {},
     "output_type": "execute_result"
    }
   ],
   "source": [
    "#list of the encoder categories\n",
    "ctg_encoder.categories_"
   ]
  },
  {
   "cell_type": "markdown",
   "id": "0acabc9c",
   "metadata": {},
   "source": [
    "### Feature Engineering"
   ]
  },
  {
   "cell_type": "code",
   "execution_count": 37,
   "id": "c04b2972",
   "metadata": {},
   "outputs": [],
   "source": [
    "test['rooms_per_household'] =test['total_rooms']/test['households']\n",
    "test['bedrooms_per_rooms']=test['total_bedrooms']/test['total_rooms']\n",
    "test['population_per_household']=test['population']/test['households']"
   ]
  },
  {
   "cell_type": "code",
   "execution_count": 38,
   "id": "bbb1471f",
   "metadata": {},
   "outputs": [
    {
     "data": {
      "text/plain": [
       "median_house_value          1.000000\n",
       "median_income               0.677502\n",
       "total_rooms                 0.134697\n",
       "rooms_per_household         0.130928\n",
       "housing_median_age          0.113585\n",
       "households                  0.074249\n",
       "total_bedrooms              0.056667\n",
       "population                 -0.019003\n",
       "longitude                  -0.044062\n",
       "population_per_household   -0.121853\n",
       "latitude                   -0.149295\n",
       "bedrooms_per_rooms         -0.249196\n",
       "Name: median_house_value, dtype: float64"
      ]
     },
     "execution_count": 38,
     "metadata": {},
     "output_type": "execute_result"
    }
   ],
   "source": [
    "#checking the correlation of the new created columns to the median house value\n",
    "corr_matrix= test.corr()\n",
    "corr_matrix['median_house_value'].sort_values(ascending=False)"
   ]
  },
  {
   "cell_type": "markdown",
   "id": "b5fc30f8",
   "metadata": {},
   "source": [
    "### Feature Scaling"
   ]
  },
  {
   "cell_type": "code",
   "execution_count": 39,
   "id": "614ee5eb",
   "metadata": {},
   "outputs": [
    {
     "data": {
      "text/plain": [
       "20046     47700.0\n",
       "3024      45800.0\n",
       "15663    500001.0\n",
       "20484    218600.0\n",
       "9814     278000.0\n",
       "Name: median_house_value, dtype: float64"
      ]
     },
     "execution_count": 39,
     "metadata": {},
     "output_type": "execute_result"
    }
   ],
   "source": [
    "#spliting data into input and output(i.e features and labels )\n",
    "#creating the output data.Making a copy so that any changes made in this o not affect the original dataset\n",
    "test_labels=test['median_house_value'].copy()\n",
    "#creating the input data\n",
    "test=test.drop('median_house_value',axis=1)\n",
    "#droping the categorical value column so as to work with the numerical values including the added columns\n",
    "test_df=test.drop('ocean_proximity',axis=1)\n",
    "test_labels.head()"
   ]
  },
  {
   "cell_type": "code",
   "execution_count": 40,
   "id": "629d40eb",
   "metadata": {},
   "outputs": [],
   "source": [
    "from sklearn.pipeline import Pipeline\n",
    "from sklearn.preprocessing import StandardScaler\n",
    "num_pipeline=Pipeline([('imputer',SimpleImputer(strategy='median')),('std_scaler',StandardScaler())])\n",
    "test_df_tr=num_pipeline.fit_transform(test_df)"
   ]
  },
  {
   "cell_type": "code",
   "execution_count": 41,
   "id": "2653e25a",
   "metadata": {},
   "outputs": [
    {
     "data": {
      "text/plain": [
       "array([[ 0.25541734,  0.22194113, -0.30073951, ...,  0.        ,\n",
       "         0.        ,  0.        ],\n",
       "       [ 0.02976613, -0.20947715,  0.098724  , ...,  0.        ,\n",
       "         0.        ,  0.        ],\n",
       "       [-1.46454628,  1.03788441,  1.85636346, ...,  0.        ,\n",
       "         1.        ,  0.        ],\n",
       "       ...,\n",
       "       [-1.2689819 ,  0.80810728, -0.30073951, ...,  0.        ,\n",
       "         0.        ,  0.        ],\n",
       "       [-0.120668  ,  0.5548835 ,  0.57808022, ...,  0.        ,\n",
       "         0.        ,  0.        ],\n",
       "       [ 0.57634349, -0.64089543, -0.93988113, ...,  0.        ,\n",
       "         0.        ,  0.        ]])"
      ]
     },
     "execution_count": 41,
     "metadata": {},
     "output_type": "execute_result"
    }
   ],
   "source": [
    "from sklearn.compose import ColumnTransformer\n",
    "num_attributes=list(test_df)\n",
    "ctg_attributes=['ocean_proximity']\n",
    "\n",
    "full_pipeline=ColumnTransformer([('num',num_pipeline,num_attributes),('cat',OneHotEncoder(),ctg_attributes)])\n",
    "test_prepared =full_pipeline.fit_transform(test)\n",
    "test_prepared"
   ]
  },
  {
   "cell_type": "code",
   "execution_count": 42,
   "id": "50f1ab22",
   "metadata": {},
   "outputs": [
    {
     "data": {
      "text/plain": [
       "(4128, 16)"
      ]
     },
     "execution_count": 42,
     "metadata": {},
     "output_type": "execute_result"
    }
   ],
   "source": [
    "test_prepared.shape"
   ]
  },
  {
   "cell_type": "markdown",
   "id": "27d0b2a8",
   "metadata": {},
   "source": [
    "## Loading the model"
   ]
  },
  {
   "cell_type": "code",
   "execution_count": 43,
   "id": "0fd78e4d",
   "metadata": {},
   "outputs": [
    {
     "data": {
      "text/plain": [
       "SGDRegressor(alpha=0.1)"
      ]
     },
     "execution_count": 43,
     "metadata": {},
     "output_type": "execute_result"
    }
   ],
   "source": [
    "#re_loading the model\n",
    "import pickle\n",
    "model =pickle.load(open('sgd_housing_model.pkl','rb'))\n",
    "model"
   ]
  },
  {
   "cell_type": "markdown",
   "id": "b02e18ab",
   "metadata": {},
   "source": [
    "## Predicting Values"
   ]
  },
  {
   "cell_type": "code",
   "execution_count": 44,
   "id": "963f9a5f",
   "metadata": {},
   "outputs": [
    {
     "data": {
      "text/plain": [
       "array([ 62046.29639417, 127685.36148466, 261803.87352789, ...,\n",
       "       422812.78033295, 130714.53429998, 193015.15467117])"
      ]
     },
     "execution_count": 44,
     "metadata": {},
     "output_type": "execute_result"
    }
   ],
   "source": [
    "#making predictions using the test dataset\n",
    "predictions=model.predict(test_prepared)\n",
    "predictions"
   ]
  },
  {
   "cell_type": "markdown",
   "id": "3263e838",
   "metadata": {},
   "source": [
    "## Evaluating Model"
   ]
  },
  {
   "cell_type": "code",
   "execution_count": 45,
   "id": "5b00de16",
   "metadata": {},
   "outputs": [
    {
     "data": {
      "text/plain": [
       "70470.27116567994"
      ]
     },
     "execution_count": 45,
     "metadata": {},
     "output_type": "execute_result"
    }
   ],
   "source": [
    "from sklearn.metrics import mean_squared_error\n",
    "predictions=model.predict(test_prepared)\n",
    "test_mse=mean_squared_error(test_labels,predictions)\n",
    "test_rmse=np.sqrt(test_mse)\n",
    "test_rmse"
   ]
  },
  {
   "cell_type": "markdown",
   "id": "af18440e",
   "metadata": {},
   "source": [
    "## Comparing Models and drawing conclusion"
   ]
  },
  {
   "cell_type": "markdown",
   "id": "1f093aac",
   "metadata": {},
   "source": [
    "From the results we had during the training of the data, the  Random Forest Model had a lower root mean squared error than the  Stochastic Gradient Model. While on the testing data, the  Random Forest Model still had a lower root mean squared error than the  Stochastic Gradient Model.  \n",
    "\n",
    "But then, when you compare the results of both models during training and testing, you will realize that the training error of both models were lower than the generalization error which means that the models are overfitting the training data. \n",
    "\n",
    "The Random Forest Model performed best compared to the Stochastic Gradient Model. "
   ]
  }
 ],
 "metadata": {
  "kernelspec": {
   "display_name": "Python 3 (ipykernel)",
   "language": "python",
   "name": "python3"
  },
  "language_info": {
   "codemirror_mode": {
    "name": "ipython",
    "version": 3
   },
   "file_extension": ".py",
   "mimetype": "text/x-python",
   "name": "python",
   "nbconvert_exporter": "python",
   "pygments_lexer": "ipython3",
   "version": "3.9.13"
  }
 },
 "nbformat": 4,
 "nbformat_minor": 5
}
